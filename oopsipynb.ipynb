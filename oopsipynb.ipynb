{
  "nbformat": 4,
  "nbformat_minor": 0,
  "metadata": {
    "colab": {
      "provenance": []
    },
    "kernelspec": {
      "name": "python3",
      "display_name": "Python 3"
    },
    "language_info": {
      "name": "python"
    }
  },
  "cells": [
    {
      "cell_type": "markdown",
      "source": [
        "##1. What is Object-Oriented Programming (OOP)?"
      ],
      "metadata": {
        "id": "NO_Caiqrluto"
      }
    },
    {
      "cell_type": "markdown",
      "source": [
        "Object-Oriented Programming (OOP) is a programming paradigm that uses \"objects\" to represent data and methods to manipulate that data. OOP aims to organize code into reusable, modular components. It focuses on concepts like classes, objects, inheritance, encapsulation, polymorphism, and abstraction."
      ],
      "metadata": {
        "id": "YkLa3rmNl2OU"
      }
    },
    {
      "cell_type": "markdown",
      "source": [
        "## 2. What is a class in OOP?"
      ],
      "metadata": {
        "id": "DRSzKaKrl9vW"
      }
    },
    {
      "cell_type": "markdown",
      "source": [
        "A class in OOP is a blueprint or template for creating objects. It defines the properties (attributes) and behaviors (methods) that objects created from the class will have."
      ],
      "metadata": {
        "id": "AR3-x42-mFSl"
      }
    },
    {
      "cell_type": "markdown",
      "source": [
        "##3. What is an object in OOP?"
      ],
      "metadata": {
        "id": "V502q_aBmLKs"
      }
    },
    {
      "cell_type": "markdown",
      "source": [
        "An object is an instance of a class. It is a real-world entity that contains data (attributes) and functions (methods) that operate on that data."
      ],
      "metadata": {
        "id": "YlVZ1EAgmWj2"
      }
    },
    {
      "cell_type": "markdown",
      "source": [
        "##4. What is the difference between abstraction and encapsulation?"
      ],
      "metadata": {
        "id": "7Q72w5eZmY2n"
      }
    },
    {
      "cell_type": "markdown",
      "source": [
        "- Abstraction hides the complex implementation details and shows only the essential features of an object.\n",
        "- Encapsulation refers to bundling the data (attributes) and methods (functions) that operate on the data into a single unit, and restricting access to some of the object's components to protect its integrity."
      ],
      "metadata": {
        "id": "SAjtN9qrmzeP"
      }
    },
    {
      "cell_type": "markdown",
      "source": [
        "## 5. What are dunder methods in Python?"
      ],
      "metadata": {
        "id": "XQkoS1X1m7fz"
      }
    },
    {
      "cell_type": "markdown",
      "source": [
        "Dunder methods (short for \"double underscore methods\") are special methods in Python that are used to implement operator overloading and custom behavior. Examples include __init__, __str__, __repr__, __add__, etc."
      ],
      "metadata": {
        "id": "88Il6zFNnGqy"
      }
    },
    {
      "cell_type": "markdown",
      "source": [
        "## 6. Explain the concept of inheritance in OOP.\n"
      ],
      "metadata": {
        "id": "2CNEm73xnJ4t"
      }
    },
    {
      "cell_type": "markdown",
      "source": [
        "Inheritance allows a class (child class) to inherit the properties and behaviors (methods) of another class (parent class). This promotes code reuse and a hierarchical structure."
      ],
      "metadata": {
        "id": "ZrE46BhmnY-l"
      }
    },
    {
      "cell_type": "markdown",
      "source": [
        "##7. What is polymorphism in OOP?"
      ],
      "metadata": {
        "id": "zZc5Tq99nbGy"
      }
    },
    {
      "cell_type": "markdown",
      "source": [
        "Polymorphism allows different classes to be treated as instances of the same class through inheritance. It enables objects to be used interchangeably, and methods to behave differently based on the object calling them."
      ],
      "metadata": {
        "id": "vn6R91RVnhMz"
      }
    },
    {
      "cell_type": "markdown",
      "source": [
        "##8. How is encapsulation achieved in Python?"
      ],
      "metadata": {
        "id": "C4JQBq0xnl8K"
      }
    },
    {
      "cell_type": "markdown",
      "source": [
        "Encapsulation in Python is achieved by defining attributes and methods in a class and controlling access to them via access modifiers. Private attributes can be defined by using double underscores (__), which makes them inaccessible outside the class."
      ],
      "metadata": {
        "id": "cg6YK_jknuxp"
      }
    },
    {
      "cell_type": "markdown",
      "source": [
        "##9. What is a constructor in Python?"
      ],
      "metadata": {
        "id": "QoRxgK7Fnw90"
      }
    },
    {
      "cell_type": "markdown",
      "source": [
        "A constructor in Python is a special method __init__ that is automatically called when an object is created. It is used to initialize the object's attributes."
      ],
      "metadata": {
        "id": "n5ziK8eOn7_t"
      }
    },
    {
      "cell_type": "markdown",
      "source": [
        "##10. What are class and static methods in Python?"
      ],
      "metadata": {
        "id": "oG34K4XBoEHx"
      }
    },
    {
      "cell_type": "markdown",
      "source": [
        "- Class methods are bound to the class rather than an instance. They take a cls parameter and are defined with the @classmethod decorator.\n",
        "- Static methods don't operate on class or instance data and don't take any special first parameter (self or cls). They are defined using the @staticmethod decorator."
      ],
      "metadata": {
        "id": "Ja0_zam0oMxM"
      }
    },
    {
      "cell_type": "markdown",
      "source": [
        "##11. What is method overloading in Python?"
      ],
      "metadata": {
        "id": "RQXmRLI1oScl"
      }
    },
    {
      "cell_type": "markdown",
      "source": [
        "Python doesn't directly support method overloading, but you can achieve similar behavior by defining a method that can handle different numbers or types of arguments using default arguments or variable-length argument lists (*args, **kwargs)."
      ],
      "metadata": {
        "id": "BlCNWZSfoclV"
      }
    },
    {
      "cell_type": "markdown",
      "source": [
        "##12. What is method overriding in OOP?"
      ],
      "metadata": {
        "id": "-ejYHf-9oiKa"
      }
    },
    {
      "cell_type": "markdown",
      "source": [
        "Method overriding occurs when a subclass provides a specific implementation of a method that is already defined in its parent class. This allows the subclass to customize or replace the behavior of the parent class method."
      ],
      "metadata": {
        "id": "E70owpV9oofo"
      }
    },
    {
      "cell_type": "markdown",
      "source": [
        "## 13. What is a property decorator in Python?"
      ],
      "metadata": {
        "id": "X_0labOLouvA"
      }
    },
    {
      "cell_type": "markdown",
      "source": [
        "The @property decorator in Python is used to define getter methods for a class attribute, allowing you to access it as if it were an attribute instead of a method. It can also be used to define setter and deleter methods."
      ],
      "metadata": {
        "id": "fdrAbT3To2pq"
      }
    },
    {
      "cell_type": "markdown",
      "source": [
        "##14. Why is polymorphism important in OOP?"
      ],
      "metadata": {
        "id": "Q1FwCbVco-T6"
      }
    },
    {
      "cell_type": "markdown",
      "source": [
        "Polymorphism enhances flexibility and maintainability in OOP. It allows one interface to work with different types of objects, promoting code reuse and reducing complexity."
      ],
      "metadata": {
        "id": "wORXTqcbpHdI"
      }
    },
    {
      "cell_type": "markdown",
      "source": [
        "##15. What is an abstract class in Python?"
      ],
      "metadata": {
        "id": "Si7d7tyjpNEO"
      }
    },
    {
      "cell_type": "markdown",
      "source": [
        "An abstract class in Python is a class that cannot be instantiated on its own. It is meant to be subclassed, and it can have abstract methods that must be implemented by any subclass. It is defined using the ABC (Abstract Base Class) module."
      ],
      "metadata": {
        "id": "ISGbfKVYpUKu"
      }
    },
    {
      "cell_type": "markdown",
      "source": [
        "##16. What are the advantages of OOP?"
      ],
      "metadata": {
        "id": "Ff4e1qzapbOP"
      }
    },
    {
      "cell_type": "markdown",
      "source": [
        "Some advantages of OOP are:\n",
        "\n",
        "- Code Reusability through inheritance.\n",
        "- Modularity by dividing programs into classes.\n",
        "- Maintainability with easier debugging and updates.\n",
        "- Abstraction for focusing on high-level operations."
      ],
      "metadata": {
        "id": "sHkLZ8vJpohY"
      }
    },
    {
      "cell_type": "markdown",
      "source": [
        "##17. What is the difference between a class variable and an instance variable?"
      ],
      "metadata": {
        "id": "lUHc3W9up1hI"
      }
    },
    {
      "cell_type": "markdown",
      "source": [
        "- Class variables are shared by all instances of a class and are defined within the class.\n",
        "- Instance variables are specific to each object and are defined within the constructor (__init__) of the class."
      ],
      "metadata": {
        "id": "d6gNTl81p_wN"
      }
    },
    {
      "cell_type": "markdown",
      "source": [
        "##18. What is multiple inheritance in Python?\n"
      ],
      "metadata": {
        "id": "dvWGRNPUqJbQ"
      }
    },
    {
      "cell_type": "markdown",
      "source": [
        "Multiple inheritance occurs when a class inherits from more than one parent class. In Python, a subclass can inherit from multiple classes, allowing it to combine features from more than one base class."
      ],
      "metadata": {
        "id": "WzdEgOQxqWEx"
      }
    },
    {
      "cell_type": "markdown",
      "source": [
        "##19. Explain the purpose of __str__ and __repr__ methods in Python."
      ],
      "metadata": {
        "id": "kvVs1Km1qYaS"
      }
    },
    {
      "cell_type": "markdown",
      "source": [
        "- __str__ is used to define a human-readable string representation of an object, typically for display to the user.\n",
        "- __repr__ is used to define a more formal string representation, typically for debugging or development purposes."
      ],
      "metadata": {
        "id": "G7y87Yy2qfEA"
      }
    },
    {
      "cell_type": "markdown",
      "source": [
        "##20. What is the significance of the super() function in Python?"
      ],
      "metadata": {
        "id": "NElEnMD8qoK6"
      }
    },
    {
      "cell_type": "markdown",
      "source": [
        "The super() function is used to call methods from the parent class. It is commonly used in method overriding to invoke the parent class’s method and extend its functionality."
      ],
      "metadata": {
        "id": "eEO-6yaIqyxi"
      }
    },
    {
      "cell_type": "markdown",
      "source": [
        "##21. What is the significance of the __del__ method in Python?"
      ],
      "metadata": {
        "id": "xTT0XpDXq0sX"
      }
    },
    {
      "cell_type": "markdown",
      "source": [
        "The __del__ method is a destructor in Python. It is called when an object is about to be destroyed or garbage collected. It can be used for cleanup operations, such as closing files or releasing resources."
      ],
      "metadata": {
        "id": "0nMciauwq9sv"
      }
    },
    {
      "cell_type": "markdown",
      "source": [
        "##22. What is the difference between @staticmethod and @classmethod in Python?"
      ],
      "metadata": {
        "id": "tPz0vvd5rB_-"
      }
    },
    {
      "cell_type": "markdown",
      "source": [
        "- @staticmethod defines a method that does not take any special parameters (self or cls). It can be called on the class itself or its instances, but it does not operate on class or instance data.\n",
        "- @classmethod defines a method that takes the class as the first parameter (cls). It can modify class-level data and be called on the class or an instance."
      ],
      "metadata": {
        "id": "6Vj5UazXrHrR"
      }
    },
    {
      "cell_type": "markdown",
      "source": [
        "##23. How does polymorphism work in Python with inheritance?"
      ],
      "metadata": {
        "id": "vG0pPT1yrRuk"
      }
    },
    {
      "cell_type": "markdown",
      "source": [
        "In Python, polymorphism allows methods in different classes to have the same name but behave differently depending on the object type. This is often achieved by method overriding in subclasses."
      ],
      "metadata": {
        "id": "WH0kcUEarbKd"
      }
    },
    {
      "cell_type": "markdown",
      "source": [
        "##24. What is method chaining in Python OOP?"
      ],
      "metadata": {
        "id": "BtuHu4VWrdyb"
      }
    },
    {
      "cell_type": "markdown",
      "source": [
        "Method chaining allows you to call multiple methods in a single line of code. This is possible when methods return self, which allows for subsequent method calls on the same object."
      ],
      "metadata": {
        "id": "k1wd7tYbrqw7"
      }
    },
    {
      "cell_type": "markdown",
      "source": [
        "##25. What is the purpose of the __call__ method in Python?"
      ],
      "metadata": {
        "id": "ye8nioqZrxiI"
      }
    },
    {
      "cell_type": "markdown",
      "source": [
        "The __call__ method allows an instance of a class to be called like a function. When implemented, it enables the object to behave as a callable."
      ],
      "metadata": {
        "id": "8Kz0CXl5r8cq"
      }
    },
    {
      "cell_type": "markdown",
      "source": [
        "## 1. Create a parent class Animal with a method speak() that prints a generic message. Create a child class Dog\n",
        "that overrides the speak() method to print \"Bark!\"."
      ],
      "metadata": {
        "id": "y-Ng8VW_tHQV"
      }
    },
    {
      "cell_type": "code",
      "source": [
        "class Animal:\n",
        "    def speak(self):\n",
        "        print(\"Some generic animal sound\")\n",
        "\n",
        "class Dog(Animal):\n",
        "    def speak(self):\n",
        "        print(\"Bark!\")\n",
        "\n",
        "# Test\n",
        "dog = Dog()\n",
        "dog.speak()"
      ],
      "metadata": {
        "colab": {
          "base_uri": "https://localhost:8080/"
        },
        "id": "CJSbmmANtLWz",
        "outputId": "ee56f131-9dde-4021-892e-eee5b8e81d03"
      },
      "execution_count": 1,
      "outputs": [
        {
          "output_type": "stream",
          "name": "stdout",
          "text": [
            "Bark!\n"
          ]
        }
      ]
    },
    {
      "cell_type": "markdown",
      "source": [
        "## 2. Write a program to create an abstract class Shape with a method area(). Derive classes Circle and Rectangle\n",
        "from it and implement the area() method in both."
      ],
      "metadata": {
        "id": "SrO8Kylxtb8c"
      }
    },
    {
      "cell_type": "code",
      "source": [
        "from abc import ABC, abstractmethod\n",
        "import math\n",
        "\n",
        "class Shape(ABC):\n",
        "    @abstractmethod\n",
        "    def area(self):\n",
        "        pass\n",
        "\n",
        "class Circle(Shape):\n",
        "    def __init__(self, radius):\n",
        "        self.radius = radius\n",
        "\n",
        "    def area(self):\n",
        "        return math.pi * self.radius ** 2\n",
        "\n",
        "class Rectangle(Shape):\n",
        "    def __init__(self, width, height):\n",
        "        self.width = width\n",
        "        self.height = height\n",
        "\n",
        "    def area(self):\n",
        "        return self.width * self.height\n",
        "\n",
        "# Test\n",
        "circle = Circle(5)\n",
        "print(circle.area())\n",
        "\n",
        "rectangle = Rectangle(4, 6)\n",
        "print(rectangle.area())"
      ],
      "metadata": {
        "colab": {
          "base_uri": "https://localhost:8080/"
        },
        "id": "pTH6PrXSt0i4",
        "outputId": "fc325db8-c7fd-45a6-afa5-5376f94600b5"
      },
      "execution_count": 5,
      "outputs": [
        {
          "output_type": "stream",
          "name": "stdout",
          "text": [
            "78.53981633974483\n",
            "24\n"
          ]
        }
      ]
    },
    {
      "cell_type": "markdown",
      "source": [
        "##3. Implement a multi-level inheritance scenario where a class Vehicle has an attribute type. Derive a class Car\n",
        "and further derive a class ElectricCar that adds a battery attribute."
      ],
      "metadata": {
        "id": "P639GitZukiv"
      }
    },
    {
      "cell_type": "code",
      "source": [
        "class Vehicle:\n",
        "    def __init__(self, type_of_vehicle):\n",
        "        self.type = type_of_vehicle\n",
        "\n",
        "class Car(Vehicle):\n",
        "    def __init__(self, type_of_vehicle, model):\n",
        "        super().__init__(type_of_vehicle)\n",
        "        self.model = model\n",
        "\n",
        "class ElectricCar(Car):\n",
        "    def __init__(self, type_of_vehicle, model, battery_capacity):\n",
        "        super().__init__(type_of_vehicle, model)\n",
        "        self.battery_capacity = battery_capacity\n",
        "\n",
        "# Test\n",
        "electric_car = ElectricCar(\"Electric\", \"Tesla Model 3\", \"75 kWh\")\n",
        "print(electric_car.type, electric_car.model, electric_car.battery_capacity)\n"
      ],
      "metadata": {
        "colab": {
          "base_uri": "https://localhost:8080/"
        },
        "id": "3odasg2EvJL0",
        "outputId": "d682120c-4e1f-4a85-e6ea-debcf4cfc0be"
      },
      "execution_count": 6,
      "outputs": [
        {
          "output_type": "stream",
          "name": "stdout",
          "text": [
            "Electric Tesla Model 3 75 kWh\n"
          ]
        }
      ]
    },
    {
      "cell_type": "markdown",
      "source": [
        "## 5. Write a program to demonstrate encapsulation by creating a class BankAccount with private attributes\n",
        "balance and methods to deposit, withdraw, and check balance."
      ],
      "metadata": {
        "id": "SKe9O8M3va8u"
      }
    },
    {
      "cell_type": "code",
      "source": [
        "class BankAccount:\n",
        "    def __init__(self, balance=0):\n",
        "        self.__balance = balance\n",
        "\n",
        "    def deposit(self, amount):\n",
        "        if amount > 0:\n",
        "            self.__balance += amount\n",
        "\n",
        "    def withdraw(self, amount):\n",
        "        if amount > 0 and amount <= self.__balance:\n",
        "            self.__balance -= amount\n",
        "        else:\n",
        "            print(\"Insufficient funds\")\n",
        "\n",
        "    def check_balance(self):\n",
        "        return self.__balance\n",
        "\n",
        "# Test\n",
        "account = BankAccount()\n",
        "account.deposit(1000)\n",
        "print(account.check_balance())\n",
        "account.withdraw(500)\n",
        "print(account.check_balance())"
      ],
      "metadata": {
        "colab": {
          "base_uri": "https://localhost:8080/"
        },
        "id": "O3i3oWJyvc6V",
        "outputId": "37c51415-4e5d-40a8-d793-5750070cfb61"
      },
      "execution_count": 7,
      "outputs": [
        {
          "output_type": "stream",
          "name": "stdout",
          "text": [
            "1000\n",
            "500\n"
          ]
        }
      ]
    },
    {
      "cell_type": "markdown",
      "source": [
        "##6. Demonstrate runtime polymorphism using a method play() in a base class Instrument. Derive classes Guitar\n",
        "and Piano that implement their own version of play()."
      ],
      "metadata": {
        "id": "gF152u6TvxLY"
      }
    },
    {
      "cell_type": "code",
      "source": [
        "class Instrument:\n",
        "    def play(self):\n",
        "        pass\n",
        "\n",
        "class Guitar(Instrument):\n",
        "    def play(self):\n",
        "        print(\"Strumming the guitar\")\n",
        "\n",
        "class Piano(Instrument):\n",
        "    def play(self):\n",
        "        print(\"Playing the piano\")\n",
        "\n",
        "# Test\n",
        "instruments = [Guitar(), Piano()]\n",
        "for instrument in instruments:\n",
        "    instrument.play()"
      ],
      "metadata": {
        "colab": {
          "base_uri": "https://localhost:8080/"
        },
        "id": "uJw_0RNqv3Y2",
        "outputId": "c1e7ce8d-7bb9-44db-8ffc-ef62b40a6575"
      },
      "execution_count": 8,
      "outputs": [
        {
          "output_type": "stream",
          "name": "stdout",
          "text": [
            "Strumming the guitar\n",
            "Playing the piano\n"
          ]
        }
      ]
    },
    {
      "cell_type": "markdown",
      "source": [
        "##7. Create a class MathOperations with a class method add_numbers() to add two numbers and a static\n",
        "method subtract_numbers() to subtract two numbers."
      ],
      "metadata": {
        "id": "3DMTZYOvwJNU"
      }
    },
    {
      "cell_type": "code",
      "source": [
        "class MathOperations:\n",
        "    @classmethod\n",
        "    def add_numbers(cls, a, b):\n",
        "        return a + b\n",
        "\n",
        "    @staticmethod\n",
        "    def subtract_numbers(a, b):\n",
        "        return a - b\n",
        "\n",
        "# Test\n",
        "print(MathOperations.add_numbers(5, 3))\n",
        "print(MathOperations.subtract_numbers(5, 3))"
      ],
      "metadata": {
        "colab": {
          "base_uri": "https://localhost:8080/"
        },
        "id": "paRskHTawQd5",
        "outputId": "e774f79c-9c38-44ef-c20a-3c3ec69e0d7b"
      },
      "execution_count": 9,
      "outputs": [
        {
          "output_type": "stream",
          "name": "stdout",
          "text": [
            "8\n",
            "2\n"
          ]
        }
      ]
    },
    {
      "cell_type": "markdown",
      "source": [
        "##8. Implement a class Person with a class method to count the total number of persons created."
      ],
      "metadata": {
        "id": "R3hmdlbRwbyu"
      }
    },
    {
      "cell_type": "code",
      "source": [
        "class Person:\n",
        "    total_persons = 0\n",
        "\n",
        "    def __init__(self, name, age):\n",
        "        self.name = name\n",
        "        self.age = age\n",
        "        Person.total_persons += 1\n",
        "\n",
        "    @classmethod\n",
        "    def total_count(cls):\n",
        "        return cls.total_persons\n",
        "\n",
        "# Test\n",
        "person1 = Person(\"Alice\", 30)\n",
        "person2 = Person(\"Bob\", 25)\n",
        "print(Person.total_count())"
      ],
      "metadata": {
        "colab": {
          "base_uri": "https://localhost:8080/"
        },
        "id": "fACwi2RNwh95",
        "outputId": "d9aea0c0-7753-4012-8b67-9e2f483925e0"
      },
      "execution_count": 10,
      "outputs": [
        {
          "output_type": "stream",
          "name": "stdout",
          "text": [
            "2\n"
          ]
        }
      ]
    },
    {
      "cell_type": "markdown",
      "source": [
        "## 9. Write a class Fraction with attributes numerator and denominator. Override the str method to display the\n",
        "fraction as \"numerator/denominator\"."
      ],
      "metadata": {
        "id": "DKXs5JQ8wwqF"
      }
    },
    {
      "cell_type": "code",
      "source": [
        "class Fraction:\n",
        "    def __init__(self, numerator, denominator):\n",
        "        self.numerator = numerator\n",
        "        self.denominator = denominator\n",
        "\n",
        "    def __str__(self):\n",
        "        return f\"{self.numerator}/{self.denominator}\"\n",
        "\n",
        "# Test\n",
        "fraction = Fraction(3, 4)\n",
        "print(fraction)"
      ],
      "metadata": {
        "colab": {
          "base_uri": "https://localhost:8080/"
        },
        "id": "dAZJ00Sywzd3",
        "outputId": "aa7edb51-4940-42c3-de20-c746ac63d1f4"
      },
      "execution_count": 11,
      "outputs": [
        {
          "output_type": "stream",
          "name": "stdout",
          "text": [
            "3/4\n"
          ]
        }
      ]
    },
    {
      "cell_type": "markdown",
      "source": [
        "##10. Demonstrate operator overloading by creating a class Vector and overriding the add method to add two\n",
        "vectors."
      ],
      "metadata": {
        "id": "adw-Zizgw72o"
      }
    },
    {
      "cell_type": "code",
      "source": [
        "class Vector:\n",
        "    def __init__(self, x, y):\n",
        "        self.x = x\n",
        "        self.y = y\n",
        "\n",
        "    def __add__(self, other):\n",
        "        return Vector(self.x + other.x, self.y + other.y)\n",
        "\n",
        "    def __str__(self):\n",
        "        return f\"({self.x}, {self.y})\"\n",
        "\n",
        "# Test\n",
        "v1 = Vector(1, 2)\n",
        "v2 = Vector(3, 4)\n",
        "result = v1 + v2\n",
        "print(result)"
      ],
      "metadata": {
        "colab": {
          "base_uri": "https://localhost:8080/"
        },
        "id": "kIxhgtyAxB2j",
        "outputId": "3859d2b8-b34e-4e74-d93f-d0015161d311"
      },
      "execution_count": 12,
      "outputs": [
        {
          "output_type": "stream",
          "name": "stdout",
          "text": [
            "(4, 6)\n"
          ]
        }
      ]
    },
    {
      "cell_type": "markdown",
      "source": [
        "##11. Create a class Person with attributes name and age. Add a method greet() that prints \"Hello, my name is\n",
        "{name} and I am {age} years old.\""
      ],
      "metadata": {
        "id": "d7TG9lJnxWea"
      }
    },
    {
      "cell_type": "code",
      "source": [
        "class Person:\n",
        "    def __init__(self, name, age):\n",
        "        self.name = name\n",
        "        self.age = age\n",
        "\n",
        "    def greet(self):\n",
        "        print(f\"Hello, my name is {self.name} and I am {self.age} years old.\")\n",
        "\n",
        "# Test\n",
        "person = Person(\"Alice\", 30)\n",
        "person.greet()"
      ],
      "metadata": {
        "colab": {
          "base_uri": "https://localhost:8080/"
        },
        "id": "DeoeajhVxYcF",
        "outputId": "a8785d45-6042-44d3-dbb0-0a4b1d4f9afd"
      },
      "execution_count": 13,
      "outputs": [
        {
          "output_type": "stream",
          "name": "stdout",
          "text": [
            "Hello, my name is Alice and I am 30 years old.\n"
          ]
        }
      ]
    },
    {
      "cell_type": "markdown",
      "source": [
        "## 12. Implement a class Student with attributes name and grades. Create a method average_grade() to compute\n",
        "the average of the grades."
      ],
      "metadata": {
        "id": "PRa0Zm0Y3d_d"
      }
    },
    {
      "cell_type": "code",
      "source": [
        "class Student:\n",
        "    def __init__(self, name, grades):\n",
        "        self.name = name\n",
        "        self.grades = grades\n",
        "\n",
        "    def average_grade(self):\n",
        "        return sum(self.grades) / len(self.grades)\n",
        "\n",
        "# Test\n",
        "student = Student(\"Bob\", [85, 90, 78, 92])\n",
        "print(student.average_grade())"
      ],
      "metadata": {
        "colab": {
          "base_uri": "https://localhost:8080/"
        },
        "id": "mtVYZMYl3wSJ",
        "outputId": "198190a6-8f2f-4d66-bebb-6aaaaf61bebe"
      },
      "execution_count": 15,
      "outputs": [
        {
          "output_type": "stream",
          "name": "stdout",
          "text": [
            "86.25\n"
          ]
        }
      ]
    },
    {
      "cell_type": "markdown",
      "source": [
        "##13. Create a class Rectangle with methods set_dimensions() to set the dimensions and area() to calculate the\n",
        "area."
      ],
      "metadata": {
        "id": "WrlfMZlG4ASm"
      }
    },
    {
      "cell_type": "code",
      "source": [
        "class Rectangle:\n",
        "    def __init__(self):\n",
        "        self.width = 0\n",
        "        self.height = 0\n",
        "\n",
        "    def set_dimensions(self, width, height):\n",
        "        self.width = width\n",
        "        self.height = height\n",
        "\n",
        "    def area(self):\n",
        "        return self.width * self.height\n",
        "\n",
        "# Test\n",
        "rectangle = Rectangle()\n",
        "rectangle.set_dimensions(5, 10)\n",
        "print(rectangle.area())"
      ],
      "metadata": {
        "colab": {
          "base_uri": "https://localhost:8080/"
        },
        "id": "qDs9Y1iN4E-I",
        "outputId": "03e3be9d-29f9-43b9-d07f-52623fb73c68"
      },
      "execution_count": 16,
      "outputs": [
        {
          "output_type": "stream",
          "name": "stdout",
          "text": [
            "50\n"
          ]
        }
      ]
    },
    {
      "cell_type": "markdown",
      "source": [
        "## 14. Create a class Employee with a method calculate_salary() that computes the salary based on hours worked\n",
        "and hourly rate. Create a derived class Manager that adds a bonus to the salary.\n",
        "Practical Questions\n",
        "Java + DSA Pwskills"
      ],
      "metadata": {
        "id": "ulaNAkag4Us-"
      }
    },
    {
      "cell_type": "code",
      "source": [
        "class Employee:\n",
        "    def __init__(self, hours_worked, hourly_rate):\n",
        "        self.hours_worked = hours_worked\n",
        "        self.hourly_rate = hourly_rate\n",
        "\n",
        "    def calculate_salary(self):\n",
        "        return self.hours_worked * self.hourly_rate\n",
        "\n",
        "class Manager(Employee):\n",
        "    def __init__(self, hours_worked, hourly_rate, bonus):\n",
        "        super().__init__(hours_worked, hourly_rate)\n",
        "        self.bonus = bonus\n",
        "\n",
        "    def calculate_salary(self):\n",
        "        return super().calculate_salary() + self.bonus\n",
        "\n",
        "# Test\n",
        "employee = Employee(40, 20)\n",
        "print(employee.calculate_salary())  # Output: 800\n",
        "\n",
        "manager = Manager(40, 30, 500)\n",
        "print(manager.calculate_salary())"
      ],
      "metadata": {
        "colab": {
          "base_uri": "https://localhost:8080/"
        },
        "id": "JiATR1tM4bvN",
        "outputId": "538d8e66-0f7f-493e-866e-d7d276e202f4"
      },
      "execution_count": 17,
      "outputs": [
        {
          "output_type": "stream",
          "name": "stdout",
          "text": [
            "800\n",
            "1700\n"
          ]
        }
      ]
    },
    {
      "cell_type": "markdown",
      "source": [
        "##15. Create a class Product with attributes name, price, and quantity. Implement a method total_price() that\n",
        "calculates the total price of the product."
      ],
      "metadata": {
        "id": "bLxFqtqV4lGf"
      }
    },
    {
      "cell_type": "code",
      "source": [
        "class Product:\n",
        "    def __init__(self, name, price, quantity):\n",
        "        self.name = name\n",
        "        self.price = price\n",
        "        self.quantity = quantity\n",
        "\n",
        "    def total_price(self):\n",
        "        return self.price * self.quantity\n",
        "\n",
        "# Test\n",
        "product = Product(\"Laptop\", 1000, 2)\n",
        "print(product.total_price())"
      ],
      "metadata": {
        "colab": {
          "base_uri": "https://localhost:8080/"
        },
        "id": "51zz8YlD4sNv",
        "outputId": "e10e15ba-a1a7-4c47-9f02-26e2c25b673b"
      },
      "execution_count": 18,
      "outputs": [
        {
          "output_type": "stream",
          "name": "stdout",
          "text": [
            "2000\n"
          ]
        }
      ]
    },
    {
      "cell_type": "markdown",
      "source": [
        "##16. Create a class Animal with an abstract method sound(). Create two derived classes Cow and Sheep that\n",
        "implement the sound() method."
      ],
      "metadata": {
        "id": "3KJLGo934y7O"
      }
    },
    {
      "cell_type": "code",
      "source": [
        "from abc import ABC, abstractmethod\n",
        "\n",
        "class Animal(ABC):\n",
        "    @abstractmethod\n",
        "    def sound(self):\n",
        "        pass\n",
        "\n",
        "class Cow(Animal):\n",
        "    def sound(self):\n",
        "        print(\"Moo\")\n",
        "\n",
        "class Sheep(Animal):\n",
        "    def sound(self):\n",
        "        print(\"Baa\")\n",
        "\n",
        "# Test\n",
        "cow = Cow()\n",
        "cow.sound()\n",
        "\n",
        "sheep = Sheep()\n",
        "sheep.sound()"
      ],
      "metadata": {
        "colab": {
          "base_uri": "https://localhost:8080/"
        },
        "id": "haW0UmZ345_L",
        "outputId": "e8d976a0-4db3-4bd0-f33c-42fb3c783169"
      },
      "execution_count": 19,
      "outputs": [
        {
          "output_type": "stream",
          "name": "stdout",
          "text": [
            "Moo\n",
            "Baa\n"
          ]
        }
      ]
    },
    {
      "cell_type": "markdown",
      "source": [
        "## 17. Create a class Book with attributes title, author, and year_published. Add a method get_book_info() that\n",
        "returns a formatted string with the book's details."
      ],
      "metadata": {
        "id": "CCSdAeQo5EmW"
      }
    },
    {
      "cell_type": "code",
      "source": [
        "class Book:\n",
        "    def __init__(self, title, author, year_published):\n",
        "        self.title = title\n",
        "        self.author = author\n",
        "        self.year_published = year_published\n",
        "\n",
        "    def get_book_info(self):\n",
        "        return f\"Title: {self.title}, Author: {self.author}, Year: {self.year_published}\"\n",
        "\n",
        "# Test\n",
        "book = Book(\"1984\", \"George Orwell\", 1949)\n",
        "print(book.get_book_info())"
      ],
      "metadata": {
        "colab": {
          "base_uri": "https://localhost:8080/"
        },
        "id": "UPFaMBKo5K_Q",
        "outputId": "3629420a-5509-4cb6-b35d-0c3d4aef591d"
      },
      "execution_count": 20,
      "outputs": [
        {
          "output_type": "stream",
          "name": "stdout",
          "text": [
            "Title: 1984, Author: George Orwell, Year: 1949\n"
          ]
        }
      ]
    },
    {
      "cell_type": "markdown",
      "source": [
        "## 18. Create a class House with attributes address and price. Create a derived class Mansion that adds an\n",
        "attribute number_of_rooms."
      ],
      "metadata": {
        "id": "VHh9Zwya5avd"
      }
    },
    {
      "cell_type": "code",
      "source": [
        "class House:\n",
        "    def __init__(self, address, price):\n",
        "        self.address = address\n",
        "        self.price = price\n",
        "\n",
        "class Mansion(House):\n",
        "    def __init__(self, address, price, number_of_rooms):\n",
        "        super().__init__(address, price)\n",
        "        self.number_of_rooms = number_of_rooms\n",
        "\n",
        "# Test\n",
        "mansion = Mansion(\"123 Luxury St.\", 5000000, 10)\n",
        "print(mansion.address, mansion.price, mansion.number_of_rooms)"
      ],
      "metadata": {
        "colab": {
          "base_uri": "https://localhost:8080/"
        },
        "id": "VYHhXpyH5hOW",
        "outputId": "ce95d78c-c13c-42cc-9287-f0974a6ee74f"
      },
      "execution_count": 14,
      "outputs": [
        {
          "output_type": "stream",
          "name": "stdout",
          "text": [
            "123 Luxury St. 5000000 10\n"
          ]
        }
      ]
    },
    {
      "cell_type": "code",
      "source": [],
      "metadata": {
        "id": "MFIuAx8f5y1V"
      },
      "execution_count": null,
      "outputs": []
    }
  ]
}